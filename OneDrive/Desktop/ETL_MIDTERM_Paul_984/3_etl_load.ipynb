{
 "cells": [
  {
   "cell_type": "code",
   "execution_count": 12,
   "id": "3304ac8c",
   "metadata": {},
   "outputs": [
    {
     "name": "stdout",
     "output_type": "stream",
     "text": [
      "✅ Files saved to Parquet successfully!\n",
      "\n",
      "Preview of full_data.parquet:\n",
      "   order_id customer_name product  quantity  unit_price  order_date   region  \\\n",
      "0         1         Diana  Tablet       2.0       500.0  2024-01-20    South   \n",
      "1         2           Eve  Laptop       2.0       500.0  2024-04-29    North   \n",
      "2         3       Charlie  Laptop       2.0       250.0  2024-01-08  Unknown   \n",
      "3         4           Eve  Laptop       2.0       750.0  2024-01-07     West   \n",
      "4         5           Eve  Tablet       3.0       500.0  2024-03-07    South   \n",
      "\n",
      "   total_price  order_month  \n",
      "0       1000.0          1.0  \n",
      "1       1000.0          4.0  \n",
      "2        500.0          1.0  \n",
      "3       1500.0          1.0  \n",
      "4       1500.0          3.0  \n",
      "\n",
      "Preview of incremental_data.parquet:\n",
      "   order_id customer_name product  quantity  unit_price  order_date   region  \\\n",
      "0       101         Alice  Laptop       1.5       900.0  2024-05-09  Central   \n",
      "1       102          None  Laptop       1.0       300.0  2024-05-07  Central   \n",
      "2       103          None  Laptop       1.0       600.0  2024-05-04  Central   \n",
      "3       104          None  Tablet       1.5       300.0  2024-05-26  Central   \n",
      "4       105         Heidi  Tablet       2.0       600.0  2024-05-21    North   \n",
      "\n",
      "   total_price  order_month  \n",
      "0       1350.0            5  \n",
      "1        300.0            5  \n",
      "2        600.0            5  \n",
      "3        450.0            5  \n",
      "4       1200.0            5  \n"
     ]
    }
   ],
   "source": [
    "# ETL: LOADING THE DATA\n",
    "# Load transformed data and save to Parquet format\n",
    "\n",
    "import pandas as pd\n",
    "import os\n",
    "\n",
    "# Ensure the 'loaded' directory exists\n",
    "os.makedirs(\"loaded\", exist_ok=True)\n",
    "\n",
    "# Load the transformed CSV files\n",
    "full_df = pd.read_csv(\"transformed/transformed_full.csv\")\n",
    "incremental_df = pd.read_csv(\"transformed/transformed_incremental.csv\")\n",
    "\n",
    "# Save to Parquet format\n",
    "full_df.to_parquet(\"loaded/full_data.parquet\", index=False)\n",
    "incremental_df.to_parquet(\"loaded/incremental_data.parquet\", index=False)\n",
    "\n",
    "print(\"✅ Files saved to Parquet successfully!\")\n",
    "\n",
    "# Preview the saved Parquet files\n",
    "print(\"\\nPreview of full_data.parquet:\")\n",
    "print(pd.read_parquet(\"loaded/full_data.parquet\").head())\n",
    "\n",
    "print(\"\\nPreview of incremental_data.parquet:\")\n",
    "print(pd.read_parquet(\"loaded/incremental_data.parquet\").head())\n"
   ]
  }
 ],
 "metadata": {
  "kernelspec": {
   "display_name": "Python 3",
   "language": "python",
   "name": "python3"
  },
  "language_info": {
   "codemirror_mode": {
    "name": "ipython",
    "version": 3
   },
   "file_extension": ".py",
   "mimetype": "text/x-python",
   "name": "python",
   "nbconvert_exporter": "python",
   "pygments_lexer": "ipython3",
   "version": "3.12.0"
  }
 },
 "nbformat": 4,
 "nbformat_minor": 5
}
